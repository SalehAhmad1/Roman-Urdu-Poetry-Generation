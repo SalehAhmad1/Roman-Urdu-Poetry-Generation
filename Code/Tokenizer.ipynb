{
 "cells": [
  {
   "cell_type": "markdown",
   "metadata": {},
   "source": [
    "Saleh Ahmad\n",
    "i200605@nu.edu.pk"
   ]
  },
  {
   "cell_type": "code",
   "execution_count": 1,
   "metadata": {},
   "outputs": [],
   "source": [
    "import numpy as np"
   ]
  },
  {
   "cell_type": "code",
   "execution_count": 2,
   "metadata": {},
   "outputs": [
    {
     "data": {
      "text/plain": [
       "array(['gulon mein rang bharay bad Nobahar chalay',\n",
       "       'chalay bhi aao ke Gulshan ka kaarobar chalay', '', ...,\n",
       "       'kkhuda ne aaj tak is qoum ki haalat nahi badli',\n",
       "       'nah ho jis ko khayaal aap apni halaat ke badalny ka', ''],\n",
       "      dtype='<U80')"
      ]
     },
     "execution_count": 2,
     "metadata": {},
     "output_type": "execute_result"
    }
   ],
   "source": [
    "Data = None\n",
    "with open('../Data/Transliterated_RomanUrdu.txt', 'rt') as f:\n",
    "    Data = f.read().splitlines()\n",
    "\n",
    "Data = np.array(Data)\n",
    "Data"
   ]
  },
  {
   "cell_type": "code",
   "execution_count": 3,
   "metadata": {},
   "outputs": [],
   "source": [
    "Data = np.array([x for x in Data if x != ''])"
   ]
  },
  {
   "cell_type": "code",
   "execution_count": 4,
   "metadata": {},
   "outputs": [
    {
     "data": {
      "text/plain": [
       "(2872, 2872)"
      ]
     },
     "execution_count": 4,
     "metadata": {},
     "output_type": "execute_result"
    }
   ],
   "source": [
    "StartingTokens = []\n",
    "EndingTokens = []\n",
    "for x in Data:\n",
    "    FirstToken = x.split()[0]\n",
    "    LastToken = x.split()[-1]\n",
    "    StartingTokens.extend([FirstToken])\n",
    "    EndingTokens.extend([LastToken])\n",
    "\n",
    "len(StartingTokens), len(EndingTokens)"
   ]
  },
  {
   "cell_type": "code",
   "execution_count": 5,
   "metadata": {},
   "outputs": [
    {
     "data": {
      "text/plain": [
       "23946"
      ]
     },
     "execution_count": 5,
     "metadata": {},
     "output_type": "execute_result"
    }
   ],
   "source": [
    "Tokens_RU = []\n",
    "for i in range(len(Data)):\n",
    "    Tokens_RU.extend(Data[i].split(' '))\n",
    "\n",
    "len(Tokens_RU)"
   ]
  },
  {
   "cell_type": "code",
   "execution_count": 6,
   "metadata": {},
   "outputs": [],
   "source": [
    "np.save('../Data/All_Tokens_Roman_Urdu.npy', Tokens_RU)\n",
    "np.save('../Data/Starting_Tokens_Roman_Urdu.npy', StartingTokens)\n",
    "np.save('../Data/Ending_Tokens_Roman_Urdu.npy', EndingTokens)"
   ]
  }
 ],
 "metadata": {
  "kernelspec": {
   "display_name": "Python 3 (ipykernel)",
   "language": "python",
   "name": "python3"
  },
  "language_info": {
   "codemirror_mode": {
    "name": "ipython",
    "version": 3
   },
   "file_extension": ".py",
   "mimetype": "text/x-python",
   "name": "python",
   "nbconvert_exporter": "python",
   "pygments_lexer": "ipython3",
   "version": "3.10.6"
  },
  "vscode": {
   "interpreter": {
    "hash": "90857eea415e892742aa58aac1803481ac02e4a0a6170a8a09c25267b7e414aa"
   }
  }
 },
 "nbformat": 4,
 "nbformat_minor": 2
}
